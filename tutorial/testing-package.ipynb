{
 "cells": [
  {
   "cell_type": "code",
   "execution_count": 1,
   "metadata": {},
   "outputs": [],
   "source": [
    "import sys\n",
    "sys.path.insert(0, '..')\n",
    "from BrickModelInterface import BrickModelBuilder, BuildingMetadataLoader, add_points, SurveyGenerator, SurveyReader, convert_units, BrickToGrafana\n",
    "from buildingmotif.namespaces import BRICK, RDF"
   ]
  },
  {
   "cell_type": "markdown",
   "metadata": {},
   "source": [
    "# Testing the Model Builder"
   ]
  },
  {
   "cell_type": "code",
   "execution_count": 2,
   "metadata": {},
   "outputs": [
    {
     "ename": "BadSyntax",
     "evalue": "at line 1 of <>:\nBad syntax (expected directive or statement) at ^ in:\n\"...b'. @prefix hpf: <urn:hpflex#> . p:name brick:feeds p:target .'^b'}'\"",
     "output_type": "error",
     "traceback": [
      "Traceback \u001b[0;36m(most recent call last)\u001b[0m:\n",
      "\u001b[0m  File \u001b[1;32m~/Desktop/HPflex/mpc_melrok/creating_brick_model/.venv/lib/python3.11/site-packages/IPython/core/interactiveshell.py:3577\u001b[0m in \u001b[1;35mrun_code\u001b[0m\n    exec(code_obj, self.user_global_ns, self.user_ns)\u001b[0m\n",
      "\u001b[0m  Cell \u001b[1;32mIn[2], line 1\u001b[0m\n    builder = BrickModelBuilder(\u001b[0m\n",
      "\u001b[0m  File \u001b[1;32m~/Desktop/HPflex/mpc_melrok/creating_brick_model/tutorial/../BrickModelInterface/model_builder.py:45\u001b[0m in \u001b[1;35m__init__\u001b[0m\n    self.templates = Library.load(directory=brick_template_dir)\u001b[0m\n",
      "\u001b[0m  File \u001b[1;32m~/Desktop/HPflex/mpc_melrok/creating_brick_model/.venv/lib/python3.11/site-packages/buildingmotif/dataclasses/library.py:208\u001b[0m in \u001b[1;35mload\u001b[0m\n    return cls._load_from_directory(\u001b[0m\n",
      "\u001b[0m  File \u001b[1;32m~/Desktop/HPflex/mpc_melrok/creating_brick_model/.venv/lib/python3.11/site-packages/buildingmotif/dataclasses/library.py:415\u001b[0m in \u001b[1;35m_load_from_directory\u001b[0m\n    lib._read_yml_file(file, template_id_lookup, dependency_cache)\u001b[0m\n",
      "\u001b[0m  File \u001b[1;32m~/Desktop/HPflex/mpc_melrok/creating_brick_model/.venv/lib/python3.11/site-packages/buildingmotif/dataclasses/library.py:535\u001b[0m in \u001b[1;35m_read_yml_file\u001b[0m\n    templ_spec = compile_template_spec(templ_spec)\u001b[0m\n",
      "\u001b[0m  File \u001b[1;32m~/Desktop/HPflex/mpc_melrok/creating_brick_model/.venv/lib/python3.11/site-packages/buildingmotif/template_compilation.py:169\u001b[0m in \u001b[1;35mcompile_template_spec\u001b[0m\n    body.parse(data=existing_body, format=\"turtle\")\u001b[0m\n",
      "\u001b[0m  File \u001b[1;32m~/Desktop/HPflex/mpc_melrok/creating_brick_model/.venv/lib/python3.11/site-packages/rdflib/graph.py:1551\u001b[0m in \u001b[1;35mparse\u001b[0m\n    raise se\u001b[0m\n",
      "\u001b[0m  File \u001b[1;32m~/Desktop/HPflex/mpc_melrok/creating_brick_model/.venv/lib/python3.11/site-packages/rdflib/graph.py:1542\u001b[0m in \u001b[1;35mparse\u001b[0m\n    parser.parse(source, self, **args)\u001b[0m\n",
      "\u001b[0m  File \u001b[1;32m~/Desktop/HPflex/mpc_melrok/creating_brick_model/.venv/lib/python3.11/site-packages/rdflib/plugins/parsers/notation3.py:2020\u001b[0m in \u001b[1;35mparse\u001b[0m\n    p.loadStream(stream)\u001b[0m\n",
      "\u001b[0m  File \u001b[1;32m~/Desktop/HPflex/mpc_melrok/creating_brick_model/.venv/lib/python3.11/site-packages/rdflib/plugins/parsers/notation3.py:479\u001b[0m in \u001b[1;35mloadStream\u001b[0m\n    return self.loadBuf(stream.read())  # Not ideal\u001b[0m\n",
      "\u001b[0m  File \u001b[1;32m~/Desktop/HPflex/mpc_melrok/creating_brick_model/.venv/lib/python3.11/site-packages/rdflib/plugins/parsers/notation3.py:485\u001b[0m in \u001b[1;35mloadBuf\u001b[0m\n    self.feed(buf)\u001b[0m\n",
      "\u001b[0m  File \u001b[1;32m~/Desktop/HPflex/mpc_melrok/creating_brick_model/.venv/lib/python3.11/site-packages/rdflib/plugins/parsers/notation3.py:514\u001b[0m in \u001b[1;35mfeed\u001b[0m\n    self.BadSyntax(s, j, \"expected directive or statement\")\u001b[0m\n",
      "\u001b[0;36m  File \u001b[0;32m~/Desktop/HPflex/mpc_melrok/creating_brick_model/.venv/lib/python3.11/site-packages/rdflib/plugins/parsers/notation3.py:1730\u001b[0;36m in \u001b[0;35mBadSyntax\u001b[0;36m\n\u001b[0;31m    raise BadSyntax(self._thisDoc, self.lines, argstr, i, msg)\u001b[0;36m\n",
      "\u001b[0;36m  File \u001b[0;32m<string>\u001b[0;36m\u001b[0m\n\u001b[0;31mBadSyntax\u001b[0m\n"
     ]
    }
   ],
   "source": [
    "builder = BrickModelBuilder(\n",
    "    site_id=\"test-site\"\n",
    ")\n",
    "builder.add_site(\n",
    "    timezone=\"America/New_York\",\n",
    "    latitude=40.7128,\n",
    "    longitude=-74.0060,\n",
    "    noaa_station=\"KJFK\",\n",
    ")"
   ]
  },
  {
   "cell_type": "code",
   "execution_count": null,
   "metadata": {},
   "outputs": [
    {
     "ename": "NameError",
     "evalue": "name 'builder' is not defined",
     "output_type": "error",
     "traceback": [
      "\u001b[0;31m---------------------------------------------------------------------------\u001b[0m",
      "\u001b[0;31mNameError\u001b[0m                                 Traceback (most recent call last)",
      "Cell \u001b[0;32mIn[3], line 1\u001b[0m\n\u001b[0;32m----> 1\u001b[0m \u001b[43mbuilder\u001b[49m\u001b[38;5;241m.\u001b[39madd_zone(\u001b[38;5;124m\"\u001b[39m\u001b[38;5;124mzone1\u001b[39m\u001b[38;5;124m\"\u001b[39m)\n\u001b[1;32m      2\u001b[0m builder\u001b[38;5;241m.\u001b[39madd_window(\u001b[38;5;124m\"\u001b[39m\u001b[38;5;124mwindow1\u001b[39m\u001b[38;5;124m\"\u001b[39m, \u001b[38;5;124m\"\u001b[39m\u001b[38;5;124mzone1\u001b[39m\u001b[38;5;124m\"\u001b[39m, area_value\u001b[38;5;241m=\u001b[39m\u001b[38;5;241m10.5\u001b[39m, azimuth_value\u001b[38;5;241m=\u001b[39m\u001b[38;5;241m180\u001b[39m, tilt_value\u001b[38;5;241m=\u001b[39m\u001b[38;5;241m30\u001b[39m, unit \u001b[38;5;241m=\u001b[39m \u001b[38;5;124m'\u001b[39m\u001b[38;5;124mFT2\u001b[39m\u001b[38;5;124m'\u001b[39m)\n\u001b[1;32m      3\u001b[0m builder\u001b[38;5;241m.\u001b[39madd_thermostat(\u001b[38;5;124m\"\u001b[39m\u001b[38;5;124mtstat1\u001b[39m\u001b[38;5;124m\"\u001b[39m, \u001b[38;5;124m\"\u001b[39m\u001b[38;5;124mzone1\u001b[39m\u001b[38;5;124m\"\u001b[39m, stage_count\u001b[38;5;241m=\u001b[39m\u001b[38;5;241m2\u001b[39m, setpoint_deadband\u001b[38;5;241m=\u001b[39m\u001b[38;5;241m1\u001b[39m, tolerance\u001b[38;5;241m=\u001b[39m\u001b[38;5;241m2\u001b[39m, active\u001b[38;5;241m=\u001b[39m\u001b[38;5;28;01mTrue\u001b[39;00m, resolution \u001b[38;5;241m=\u001b[39m \u001b[38;5;241m1\u001b[39m)\n",
      "\u001b[0;31mNameError\u001b[0m: name 'builder' is not defined"
     ]
    }
   ],
   "source": [
    "builder.add_zone(\"zone1\")\n",
    "builder.add_window(\"window1\", \"zone1\", area_value=10.5, azimuth_value=180, tilt_value=30, unit = 'FT2')\n",
    "builder.add_thermostat(\"tstat1\", \"zone1\", stage_count=2, setpoint_deadband=1, tolerance=2, active=True, resolution = 1)\n",
    "builder.add_hvac(\"hvac1\", \"zone1\", cooling_capacity=5.0, heating_capacity=4.0, cooling_cop=3.5, heating_cop=3.0)\n",
    "builder.add_space(\"space1\", \"zone1\", area_value=50.0)\n",
    "\n",
    "builder.add_zone(\"zone2\")\n",
    "builder.add_window(\"window2\", \"zone2\", area_value=10.5, azimuth_value=180, tilt_value=30, unit = 'FT2')\n",
    "builder.add_thermostat(\"tstat2\", \"zone2\", stage_count=2, setpoint_deadband=1, tolerance=2, active=True, resolution =  1)\n",
    "builder.add_hvac(\"hvac2\", \"zone2\", cooling_capacity=5.0, heating_capacity=4.0, cooling_cop=3.5, heating_cop=3.0)\n",
    "builder.add_space(\"space2\", \"zone2\", area_value=50.0)"
   ]
  },
  {
   "cell_type": "code",
   "execution_count": null,
   "metadata": {},
   "outputs": [],
   "source": [
    "# Using AQL for proof of concept, this part is incomplete\n",
    "add_points(builder, \"../development_files/metadata-survey-variable-map.csv\")"
   ]
  },
  {
   "cell_type": "code",
   "execution_count": null,
   "metadata": {},
   "outputs": [],
   "source": [
    "builder.save_model(\"test-brick-model.ttl\")"
   ]
  },
  {
   "cell_type": "code",
   "execution_count": null,
   "metadata": {},
   "outputs": [
    {
     "ename": "NameError",
     "evalue": "name 'a' is not defined",
     "output_type": "error",
     "traceback": [
      "\u001b[0;31m---------------------------------------------------------------------------\u001b[0m",
      "\u001b[0;31mNameError\u001b[0m                                 Traceback (most recent call last)",
      "Cell \u001b[0;32mIn[1], line 1\u001b[0m\n\u001b[0;32m----> 1\u001b[0m \u001b[43ma\u001b[49m\n",
      "\u001b[0;31mNameError\u001b[0m: name 'a' is not defined"
     ]
    }
   ],
   "source": [
    "a"
   ]
  },
  {
   "cell_type": "markdown",
   "metadata": {},
   "source": [
    "# Testing get Metadata"
   ]
  },
  {
   "cell_type": "code",
   "execution_count": null,
   "metadata": {},
   "outputs": [],
   "source": [
    "site_metadata = BuildingMetadataLoader(\"test-brick-model.ttl\")\n",
    "site_info = site_metadata.get_site_info()\n",
    "thermostat_data = site_metadata.get_thermostat_data()"
   ]
  },
  {
   "cell_type": "code",
   "execution_count": null,
   "metadata": {},
   "outputs": [
    {
     "data": {
      "text/plain": [
       "{'heat_availability': [False, False],\n",
       " 'cool_availability': [True, True],\n",
       " 'heat_tolerance': [-2.0, -2.0],\n",
       " 'cool_tolerance': [2.0, 2.0],\n",
       " 'setpoint_deadband': [1, 1],\n",
       " 'active': [True, True],\n",
       " 'control_group': ['urn:hpflex/test-site#tstat1_control_group',\n",
       "  'urn:hpflex/test-site#tstat2_control_group'],\n",
       " 'control_type_list': ['stage', 'stage'],\n",
       " 'floor_area_list': [50.0, 50.0],\n",
       " 'window_area_list': [10.5, 10.5],\n",
       " 'azimuth_list': [180, 180],\n",
       " 'tilt_list': [30, 30],\n",
       " 'zone_ids': ['zone1', 'zone2'],\n",
       " 'hvacs': ['hvac1', 'hvac2'],\n",
       " 'setpoint_type': ['double', 'double'],\n",
       " 'fuel_heat_list': ['gas', 'gas'],\n",
       " 'fuel_cool_list': ['electricity', 'electricity'],\n",
       " 'cooling_capacity': [5.0, 5.0],\n",
       " 'heating_capacity': [4.0, 4.0],\n",
       " 'cooling_cop': [3.5, 3.5],\n",
       " 'heating_cop': [3.0, 3.0],\n",
       " 'cooling_electricity': [],\n",
       " 'heating_electricity': [],\n",
       " 'resolution': [1, 1],\n",
       " 'temperature_unit': [rdflib.term.URIRef('http://qudt.org/vocab/unit/DEG_F'),\n",
       "  rdflib.term.URIRef('http://qudt.org/vocab/unit/DEG_F')]}"
      ]
     },
     "execution_count": 7,
     "metadata": {},
     "output_type": "execute_result"
    }
   ],
   "source": [
    "thermostat_data"
   ]
  },
  {
   "cell_type": "code",
   "execution_count": null,
   "metadata": {},
   "outputs": [
    {
     "data": {
      "text/plain": [
       "{'heat_availability': [False],\n",
       " 'cool_availability': [True],\n",
       " 'heat_tolerance': [-2.0],\n",
       " 'cool_tolerance': [2.0],\n",
       " 'setpoint_deadband': [1],\n",
       " 'active': [True],\n",
       " 'control_group': ['urn:hpflex/test-site#tstat1_control_group'],\n",
       " 'control_type_list': ['stage'],\n",
       " 'floor_area_list': [50.0],\n",
       " 'window_area_list': [10.5],\n",
       " 'azimuth_list': [180],\n",
       " 'tilt_list': [30],\n",
       " 'zone_ids': ['zone1'],\n",
       " 'hvacs': ['hvac1'],\n",
       " 'setpoint_type': ['double'],\n",
       " 'fuel_heat_list': ['gas'],\n",
       " 'fuel_cool_list': ['electricity'],\n",
       " 'cooling_capacity': [5.0],\n",
       " 'heating_capacity': [4.0],\n",
       " 'cooling_cop': [3.5],\n",
       " 'heating_cop': [3.0],\n",
       " 'cooling_electricity': [],\n",
       " 'heating_electricity': [],\n",
       " 'resolution': [1],\n",
       " 'temperature_unit': [rdflib.term.URIRef('http://qudt.org/vocab/unit/DEG_F')]}"
      ]
     },
     "execution_count": 8,
     "metadata": {},
     "output_type": "execute_result"
    }
   ],
   "source": [
    "site_metadata.get_thermostat_data(for_zone='zone1')"
   ]
  },
  {
   "cell_type": "code",
   "execution_count": null,
   "metadata": {},
   "outputs": [
    {
     "data": {
      "text/plain": [
       "{'tz': 'America/New_York',\n",
       " 'latitude': 40.7128,\n",
       " 'longitude': -74.006,\n",
       " 'NOAAstation': None,\n",
       " 'project_id': rdflib.term.URIRef('urn:hpflex/test-site#test-site'),\n",
       " 'site_id': rdflib.term.URIRef('urn:hpflex/test-site#test-site'),\n",
       " 'heat_availability': [False, False],\n",
       " 'cool_availability': [True, True],\n",
       " 'heat_tolerance': [-2.0, -2.0],\n",
       " 'cool_tolerance': [2.0, 2.0],\n",
       " 'setpoint_deadband': [1, 1],\n",
       " 'active': [True, True],\n",
       " 'control_group': ['urn:hpflex/test-site#tstat1_control_group',\n",
       "  'urn:hpflex/test-site#tstat2_control_group'],\n",
       " 'control_type_list': ['stage', 'stage'],\n",
       " 'floor_area_list': [50.0, 50.0],\n",
       " 'window_area_list': [10.5, 10.5],\n",
       " 'azimuth_list': [180, 180],\n",
       " 'tilt_list': [30, 30],\n",
       " 'zone_ids': ['zone1', 'zone2'],\n",
       " 'hvacs': ['hvac1', 'hvac2'],\n",
       " 'setpoint_type': ['double', 'double'],\n",
       " 'fuel_heat_list': ['gas', 'gas'],\n",
       " 'fuel_cool_list': ['electricity', 'electricity'],\n",
       " 'cooling_capacity': [5.0, 5.0],\n",
       " 'heating_capacity': [4.0, 4.0],\n",
       " 'cooling_cop': [3.5, 3.5],\n",
       " 'heating_cop': [3.0, 3.0],\n",
       " 'cooling_electricity': [],\n",
       " 'heating_electricity': [],\n",
       " 'resolution': [1, 1],\n",
       " 'temperature_unit': [rdflib.term.URIRef('http://qudt.org/vocab/unit/DEG_F'),\n",
       "  rdflib.term.URIRef('http://qudt.org/vocab/unit/DEG_F')]}"
      ]
     },
     "execution_count": 9,
     "metadata": {},
     "output_type": "execute_result"
    }
   ],
   "source": [
    "site_metadata.get_complete_output()"
   ]
  },
  {
   "cell_type": "markdown",
   "metadata": {},
   "source": [
    "# Generating Metadata Survey"
   ]
  },
  {
   "cell_type": "code",
   "execution_count": null,
   "metadata": {},
   "outputs": [],
   "source": [
    "survey_gen = SurveyGenerator(site_name = 'easy-config-test',\n",
    "                             hvac_type = 'hp-rtu')\n",
    "# zone_space_window list for configuration: 3 zones, with 2 spaces and 2 windows, 1 space and 2 windows, 1 space 3 windows, one hvac unit per zone\n",
    "survey_gen.easy_config(zone_space_window_list=[(2,2),(1,2),(1,3)], output_path='./metadata-survey')\n",
    "# survey_gen.easy_config(zone_space_window_list=[(1,1)], output_path='./metadata-survey')\n"
   ]
  },
  {
   "cell_type": "code",
   "execution_count": null,
   "metadata": {},
   "outputs": [],
   "source": [
    "# Custom config \n",
    "# TODO: add underscores to begining of all methods but generate template and easy config\n",
    "survey_gen = SurveyGenerator(site_name= 'custom-config-test',\n",
    "                             hvac_type = 'vrf')\n",
    "survey_gen.generate_template(\n",
    "    hvacs_feed_hvacs = {'HP1': ['FCU1','FCU2','FCU3'],\n",
    "                        'HP2': ['FCU1', 'FCU2', 'FCU3']},\n",
    "    hvacs_feed_zones= {'FCU1': ['Zone1'],\n",
    "                       'FCU2': ['Zone2'],\n",
    "                       'FCU3': ['Zone3']},\n",
    "    zones_contain_spaces= {'Zone1': ['Z1S1', 'Z1S2'],\n",
    "                           'Zone2': ['Z1S2','Z2S3'],\n",
    "                           'Zone3': ['Z3S1']},\n",
    "    zones_contain_windows= {'Zone1': ['W1'],\n",
    "                           'Zone2': ['W2'],\n",
    "                           'Zone3': ['W3','W4','W5','W6']},\n",
    "                           output_path='./metadata-survey'\n",
    ")"
   ]
  },
  {
   "cell_type": "code",
   "execution_count": null,
   "metadata": {},
   "outputs": [],
   "source": []
  },
  {
   "cell_type": "markdown",
   "metadata": {},
   "source": [
    "# Reading Metadata Survey"
   ]
  },
  {
   "cell_type": "code",
   "execution_count": null,
   "metadata": {},
   "outputs": [
    {
     "name": "stderr",
     "output_type": "stream",
     "text": [
      "/opt/anaconda3/envs/bmotif/lib/python3.11/site-packages/buildingmotif/database/table_connection.py:423: SAWarning: Identity map already had an identity for (<class 'buildingmotif.database.tables.DepsAssociation'>, (1,), None), replacing it with newly flushed object.   Are there load operations occurring inside of an event handler within the flush?\n",
      "  self.bm.session.flush()\n",
      "/opt/anaconda3/envs/bmotif/lib/python3.11/site-packages/buildingmotif/database/table_connection.py:423: SAWarning: Identity map already had an identity for (<class 'buildingmotif.database.tables.DepsAssociation'>, (2,), None), replacing it with newly flushed object.   Are there load operations occurring inside of an event handler within the flush?\n",
      "  self.bm.session.flush()\n",
      "/opt/anaconda3/envs/bmotif/lib/python3.11/site-packages/buildingmotif/database/table_connection.py:423: SAWarning: Identity map already had an identity for (<class 'buildingmotif.database.tables.DepsAssociation'>, (3,), None), replacing it with newly flushed object.   Are there load operations occurring inside of an event handler within the flush?\n",
      "  self.bm.session.flush()\n",
      "/opt/anaconda3/envs/bmotif/lib/python3.11/site-packages/buildingmotif/database/table_connection.py:423: SAWarning: Identity map already had an identity for (<class 'buildingmotif.database.tables.DepsAssociation'>, (4,), None), replacing it with newly flushed object.   Are there load operations occurring inside of an event handler within the flush?\n",
      "  self.bm.session.flush()\n",
      "/opt/anaconda3/envs/bmotif/lib/python3.11/site-packages/buildingmotif/database/table_connection.py:423: SAWarning: Identity map already had an identity for (<class 'buildingmotif.database.tables.DepsAssociation'>, (5,), None), replacing it with newly flushed object.   Are there load operations occurring inside of an event handler within the flush?\n",
      "  self.bm.session.flush()\n",
      "/opt/anaconda3/envs/bmotif/lib/python3.11/site-packages/buildingmotif/database/table_connection.py:423: SAWarning: Identity map already had an identity for (<class 'buildingmotif.database.tables.DepsAssociation'>, (6,), None), replacing it with newly flushed object.   Are there load operations occurring inside of an event handler within the flush?\n",
      "  self.bm.session.flush()\n",
      "/opt/anaconda3/envs/bmotif/lib/python3.11/site-packages/buildingmotif/database/table_connection.py:423: SAWarning: Identity map already had an identity for (<class 'buildingmotif.database.tables.DepsAssociation'>, (7,), None), replacing it with newly flushed object.   Are there load operations occurring inside of an event handler within the flush?\n",
      "  self.bm.session.flush()\n",
      "/opt/anaconda3/envs/bmotif/lib/python3.11/site-packages/buildingmotif/database/table_connection.py:423: SAWarning: Identity map already had an identity for (<class 'buildingmotif.database.tables.DepsAssociation'>, (8,), None), replacing it with newly flushed object.   Are there load operations occurring inside of an event handler within the flush?\n",
      "  self.bm.session.flush()\n",
      "/opt/anaconda3/envs/bmotif/lib/python3.11/site-packages/buildingmotif/database/table_connection.py:423: SAWarning: Identity map already had an identity for (<class 'buildingmotif.database.tables.DepsAssociation'>, (9,), None), replacing it with newly flushed object.   Are there load operations occurring inside of an event handler within the flush?\n",
      "  self.bm.session.flush()\n",
      "/opt/anaconda3/envs/bmotif/lib/python3.11/site-packages/buildingmotif/database/table_connection.py:423: SAWarning: Identity map already had an identity for (<class 'buildingmotif.database.tables.DepsAssociation'>, (10,), None), replacing it with newly flushed object.   Are there load operations occurring inside of an event handler within the flush?\n",
      "  self.bm.session.flush()\n",
      "/opt/anaconda3/envs/bmotif/lib/python3.11/site-packages/buildingmotif/database/table_connection.py:423: SAWarning: Identity map already had an identity for (<class 'buildingmotif.database.tables.DepsAssociation'>, (11,), None), replacing it with newly flushed object.   Are there load operations occurring inside of an event handler within the flush?\n",
      "  self.bm.session.flush()\n",
      "/opt/anaconda3/envs/bmotif/lib/python3.11/site-packages/buildingmotif/database/table_connection.py:423: SAWarning: Identity map already had an identity for (<class 'buildingmotif.database.tables.DepsAssociation'>, (12,), None), replacing it with newly flushed object.   Are there load operations occurring inside of an event handler within the flush?\n",
      "  self.bm.session.flush()\n",
      "/opt/anaconda3/envs/bmotif/lib/python3.11/site-packages/buildingmotif/database/table_connection.py:423: SAWarning: Identity map already had an identity for (<class 'buildingmotif.database.tables.DepsAssociation'>, (13,), None), replacing it with newly flushed object.   Are there load operations occurring inside of an event handler within the flush?\n",
      "  self.bm.session.flush()\n",
      "/opt/anaconda3/envs/bmotif/lib/python3.11/site-packages/buildingmotif/database/table_connection.py:423: SAWarning: Identity map already had an identity for (<class 'buildingmotif.database.tables.DepsAssociation'>, (14,), None), replacing it with newly flushed object.   Are there load operations occurring inside of an event handler within the flush?\n",
      "  self.bm.session.flush()\n"
     ]
    }
   ],
   "source": [
    "generator = SurveyReader(\"./metadata-survey/filled-out-easy-config-test\")\n",
    "generator.create_model(\"survey-brick-model.ttl\")"
   ]
  },
  {
   "cell_type": "code",
   "execution_count": null,
   "metadata": {},
   "outputs": [
    {
     "data": {
      "text/plain": [
       "{'hvac_1': ['zone_1']}"
      ]
     },
     "execution_count": 13,
     "metadata": {},
     "output_type": "execute_result"
    }
   ],
   "source": [
    "generator.config['hvacs_feed_zones']"
   ]
  },
  {
   "cell_type": "markdown",
   "metadata": {},
   "source": [
    "# Testing Unit Conversion"
   ]
  },
  {
   "cell_type": "code",
   "execution_count": null,
   "metadata": {},
   "outputs": [
    {
     "data": {
      "text/plain": [
       "3.048"
      ]
     },
     "execution_count": 14,
     "metadata": {},
     "output_type": "execute_result"
    }
   ],
   "source": [
    "convert_units(10, 'FT', 'M')"
   ]
  },
  {
   "cell_type": "code",
   "execution_count": null,
   "metadata": {},
   "outputs": [
    {
     "data": {
      "text/plain": [
       "31.999999999999886"
      ]
     },
     "execution_count": 15,
     "metadata": {},
     "output_type": "execute_result"
    }
   ],
   "source": [
    "convert_units(0, 'DEG_C', 'DEG_F')"
   ]
  },
  {
   "cell_type": "code",
   "execution_count": null,
   "metadata": {},
   "outputs": [
    {
     "data": {
      "text/plain": [
       "273.15"
      ]
     },
     "execution_count": 16,
     "metadata": {},
     "output_type": "execute_result"
    }
   ],
   "source": [
    "convert_units(0, 'DEG_C', 'K')"
   ]
  },
  {
   "cell_type": "code",
   "execution_count": null,
   "metadata": {},
   "outputs": [
    {
     "name": "stdout",
     "output_type": "stream",
     "text": [
      "changing value of  urn:hpflex/test-site#tstat1_resolution from http://qudt.org/vocab/unit/DEG_F to http://qudt.org/vocab/unit/DEG_C\n",
      "changing value of  urn:hpflex/test-site#tstat1_setpoint_deadband from http://qudt.org/vocab/unit/DEG_F to http://qudt.org/vocab/unit/DEG_C\n",
      "changing value of  urn:hpflex/test-site#tstat1_tolerance from http://qudt.org/vocab/unit/DEG_F to http://qudt.org/vocab/unit/DEG_C\n",
      "changing value of  urn:hpflex/test-site#tstat2_resolution from http://qudt.org/vocab/unit/DEG_F to http://qudt.org/vocab/unit/DEG_C\n",
      "changing value of  urn:hpflex/test-site#tstat2_setpoint_deadband from http://qudt.org/vocab/unit/DEG_F to http://qudt.org/vocab/unit/DEG_C\n",
      "changing value of  urn:hpflex/test-site#tstat2_tolerance from http://qudt.org/vocab/unit/DEG_F to http://qudt.org/vocab/unit/DEG_C\n",
      "changing value of  urn:hpflex/test-site#window1_area from http://qudt.org/vocab/unit/FT2 to http://qudt.org/vocab/unit/M2\n",
      "changing value of  urn:hpflex/test-site#window2_area from http://qudt.org/vocab/unit/FT2 to http://qudt.org/vocab/unit/M2\n"
     ]
    },
    {
     "data": {
      "text/plain": [
       "{'heat_availability': [False],\n",
       " 'cool_availability': [True],\n",
       " 'heat_tolerance': [-1.1111111111111112],\n",
       " 'cool_tolerance': [1.1111111111111112],\n",
       " 'setpoint_deadband': [0.5555555555555556],\n",
       " 'active': [True],\n",
       " 'control_group': ['urn:hpflex/test-site#tstat1_control_group'],\n",
       " 'control_type_list': ['stage'],\n",
       " 'floor_area_list': [50.0],\n",
       " 'window_area_list': [0.9754819200000001],\n",
       " 'azimuth_list': [180],\n",
       " 'tilt_list': [30],\n",
       " 'zone_ids': ['zone1'],\n",
       " 'hvacs': ['hvac1'],\n",
       " 'setpoint_type': ['double'],\n",
       " 'fuel_heat_list': ['gas'],\n",
       " 'fuel_cool_list': ['electricity'],\n",
       " 'cooling_capacity': [5.0],\n",
       " 'heating_capacity': [4.0],\n",
       " 'cooling_cop': [3.5],\n",
       " 'heating_cop': [3.0],\n",
       " 'cooling_electricity': [],\n",
       " 'heating_electricity': [],\n",
       " 'resolution': [0.5555555555555556],\n",
       " 'temperature_unit': [rdflib.term.URIRef('http://qudt.org/vocab/unit/DEG_F')]}"
      ]
     },
     "execution_count": 17,
     "metadata": {},
     "output_type": "execute_result"
    }
   ],
   "source": [
    "site_metadata.convert_model_to_si()\n",
    "site_metadata.get_thermostat_data(for_zone='zone1')"
   ]
  },
  {
   "cell_type": "code",
   "execution_count": null,
   "metadata": {},
   "outputs": [
    {
     "data": {
      "text/plain": [
       "\"\\nThe temperature unit still shows up as DEG_F, because it is at the units for the zone temperature, \\nwhich does not have a value to convert in the model, it's values are in the DB.\\nit is a reminder to also convert that to C also. We can use the unit_conversion script for any conversions in the db.\\n\""
      ]
     },
     "execution_count": 18,
     "metadata": {},
     "output_type": "execute_result"
    }
   ],
   "source": [
    "\"\"\"\n",
    "The temperature unit still shows up as DEG_F, because it is at the units for the zone temperature, \n",
    "which does not have a value to convert in the model, it's values are in the DB.\n",
    "it is a reminder to also convert that to C also. We can use the unit_conversion script for any conversions in the db.\n",
    "\"\"\""
   ]
  },
  {
   "cell_type": "markdown",
   "metadata": {},
   "source": [
    "# Testing Grafana Dashboarding "
   ]
  },
  {
   "cell_type": "code",
   "execution_count": null,
   "metadata": {},
   "outputs": [],
   "source": [
    "import yaml \n",
    "with open('../development_files/creds.yml') as f:\n",
    "    config = yaml.safe_load(f)\n",
    "\n",
    "bg = BrickToGrafana(grafana_server=config['grafana_server'], grafana_api_key = config['grafana_api_key'], datasource=config['datasource'], ttl_path = 'test-brick-model.ttl')"
   ]
  },
  {
   "cell_type": "code",
   "execution_count": null,
   "metadata": {},
   "outputs": [
    {
     "data": {
      "text/plain": [
       "Dashboard(title='AQL from brick', annotations=Annotations(list=[]), description='Zone-based dashboard generated from Brick model', editable=True, gnetId=None, graphTooltip=0, hideControls=False, id=None, inputs=[], links=[], panels=[TimeSeries(dataSource='AQLCentral', targets=[SqlTarget(expr='', format='time_series', hide=False, legendFormat='', interval='', intervalFactor=2, metric='', refId='Speed_Status', step=10, target='', instant=False, datasource='AQLCentral', rawSql='SELECT \\n                ts AS \"time\", \\n                CAST(value_string AS FLOAT) AS \"Speed_Status\"\\n            FROM \\n                data \\n            WHERE \\n                topic_id in (select topic_id from topics where topic_name = \\'aql/1610101/vfd_output\\')\\n            AND \\n                $__timeFilter(ts) \\n            ORDER BY 1', rawQuery=True, srcFilePath='', sqlParams={}), SqlTarget(expr='', format='time_series', hide=False, legendFormat='', interval='', intervalFactor=2, metric='', refId='Unoccupied_Heating_Temperature_Setpoint', step=10, target='', instant=False, datasource='AQLCentral', rawSql='SELECT \\n                ts AS \"time\", \\n                CAST(value_string AS FLOAT) AS \"Unoccupied_Heating_Temperature_Setpoint\"\\n            FROM \\n                data \\n            WHERE \\n                topic_id in (select topic_id from topics where topic_name = \\'aql/1610101/uhsp\\')\\n            AND \\n                $__timeFilter(ts) \\n            ORDER BY 1', rawQuery=True, srcFilePath='', sqlParams={}), SqlTarget(expr='', format='time_series', hide=False, legendFormat='', interval='', intervalFactor=2, metric='', refId='Mode_Status', step=10, target='', instant=False, datasource='AQLCentral', rawSql='SELECT \\n                ts AS \"time\", \\n                CAST(value_string AS FLOAT) AS \"Mode_Status\"\\n            FROM \\n                data \\n            WHERE \\n                topic_id in (select topic_id from topics where topic_name = \\'aql/1610101/sys_demand\\')\\n            AND \\n                $__timeFilter(ts) \\n            ORDER BY 1', rawQuery=True, srcFilePath='', sqlParams={}), SqlTarget(expr='', format='time_series', hide=False, legendFormat='', interval='', intervalFactor=2, metric='', refId='Supply_Air_Temperature_Setpoint', step=10, target='', instant=False, datasource='AQLCentral', rawSql='SELECT \\n                ts AS \"time\", \\n                CAST(value_string AS FLOAT) AS \"Supply_Air_Temperature_Setpoint\"\\n            FROM \\n                data \\n            WHERE \\n                topic_id in (select topic_id from topics where topic_name = \\'aql/1610101/sup_air_temp_setpt\\')\\n            AND \\n                $__timeFilter(ts) \\n            ORDER BY 1', rawQuery=True, srcFilePath='', sqlParams={}), SqlTarget(expr='', format='time_series', hide=False, legendFormat='', interval='', intervalFactor=2, metric='', refId='Supply_Air_Temperature_Sensor', step=10, target='', instant=False, datasource='AQLCentral', rawSql='SELECT \\n                ts AS \"time\", \\n                CAST(value_string AS FLOAT) AS \"Supply_Air_Temperature_Sensor\"\\n            FROM \\n                data \\n            WHERE \\n                topic_id in (select topic_id from topics where topic_name = \\'aql/1610101/sa_temp\\')\\n            AND \\n                $__timeFilter(ts) \\n            ORDER BY 1', rawQuery=True, srcFilePath='', sqlParams={}), SqlTarget(expr='', format='time_series', hide=False, legendFormat='', interval='', intervalFactor=2, metric='', refId='Relative_Humidity_Sensor', step=10, target='', instant=False, datasource='AQLCentral', rawSql='SELECT \\n                ts AS \"time\", \\n                CAST(value_string AS FLOAT) AS \"Relative_Humidity_Sensor\"\\n            FROM \\n                data \\n            WHERE \\n                topic_id in (select topic_id from topics where topic_name = \\'aql/1610101/rarh\\')\\n            AND \\n                $__timeFilter(ts) \\n            ORDER BY 1', rawQuery=True, srcFilePath='', sqlParams={}), SqlTarget(expr='', format='time_series', hide=False, legendFormat='', interval='', intervalFactor=2, metric='', refId='Return_Air_Temperature_Sensor', step=10, target='', instant=False, datasource='AQLCentral', rawSql='SELECT \\n                ts AS \"time\", \\n                CAST(value_string AS FLOAT) AS \"Return_Air_Temperature_Sensor\"\\n            FROM \\n                data \\n            WHERE \\n                topic_id in (select topic_id from topics where topic_name = \\'aql/1610101/ra_temp\\')\\n            AND \\n                $__timeFilter(ts) \\n            ORDER BY 1', rawQuery=True, srcFilePath='', sqlParams={}), SqlTarget(expr='', format='time_series', hide=False, legendFormat='', interval='', intervalFactor=2, metric='', refId='Return_Air_Enthalpy_Sensor', step=10, target='', instant=False, datasource='AQLCentral', rawSql='SELECT \\n                ts AS \"time\", \\n                CAST(value_string AS FLOAT) AS \"Return_Air_Enthalpy_Sensor\"\\n            FROM \\n                data \\n            WHERE \\n                topic_id in (select topic_id from topics where topic_name = \\'aql/1610101/ra_enth\\')\\n            AND \\n                $__timeFilter(ts) \\n            ORDER BY 1', rawQuery=True, srcFilePath='', sqlParams={}), SqlTarget(expr='', format='time_series', hide=False, legendFormat='', interval='', intervalFactor=2, metric='', refId='Outside_Air_Humidity_Sensor', step=10, target='', instant=False, datasource='AQLCentral', rawSql='SELECT \\n                ts AS \"time\", \\n                CAST(value_string AS FLOAT) AS \"Outside_Air_Humidity_Sensor\"\\n            FROM \\n                data \\n            WHERE \\n                topic_id in (select topic_id from topics where topic_name = \\'aql/1610101/oarh\\')\\n            AND \\n                $__timeFilter(ts) \\n            ORDER BY 1', rawQuery=True, srcFilePath='', sqlParams={}), SqlTarget(expr='', format='time_series', hide=False, legendFormat='', interval='', intervalFactor=2, metric='', refId='Outside_Air_Temperature_Sensor', step=10, target='', instant=False, datasource='AQLCentral', rawSql='SELECT \\n                ts AS \"time\", \\n                CAST(value_string AS FLOAT) AS \"Outside_Air_Temperature_Sensor\"\\n            FROM \\n                data \\n            WHERE \\n                topic_id in (select topic_id from topics where topic_name = \\'aql/1610101/oa_temp\\')\\n            AND \\n                $__timeFilter(ts) \\n            ORDER BY 1', rawQuery=True, srcFilePath='', sqlParams={}), SqlTarget(expr='', format='time_series', hide=False, legendFormat='', interval='', intervalFactor=2, metric='', refId='Outside_Air_Enthalpy_Sensor', step=10, target='', instant=False, datasource='AQLCentral', rawSql='SELECT \\n                ts AS \"time\", \\n                CAST(value_string AS FLOAT) AS \"Outside_Air_Enthalpy_Sensor\"\\n            FROM \\n                data \\n            WHERE \\n                topic_id in (select topic_id from topics where topic_name = \\'aql/1610101/oa_enth\\')\\n            AND \\n                $__timeFilter(ts) \\n            ORDER BY 1', rawQuery=True, srcFilePath='', sqlParams={}), SqlTarget(expr='', format='time_series', hide=False, legendFormat='', interval='', intervalFactor=2, metric='', refId='Damper_Position_Sensor', step=10, target='', instant=False, datasource='AQLCentral', rawSql='SELECT \\n                ts AS \"time\", \\n                CAST(value_string AS FLOAT) AS \"Damper_Position_Sensor\"\\n            FROM \\n                data \\n            WHERE \\n                topic_id in (select topic_id from topics where topic_name = \\'aql/1610101/oa_dmpr_pos\\')\\n            AND \\n                $__timeFilter(ts) \\n            ORDER BY 1', rawQuery=True, srcFilePath='', sqlParams={}), SqlTarget(expr='', format='time_series', hide=False, legendFormat='', interval='', intervalFactor=2, metric='', refId='Heating_Temperature_Setpoint', step=10, target='', instant=False, datasource='AQLCentral', rawSql='SELECT \\n                ts AS \"time\", \\n                CAST(value_string AS FLOAT) AS \"Heating_Temperature_Setpoint\"\\n            FROM \\n                data \\n            WHERE \\n                topic_id in (select topic_id from topics where topic_name = \\'aql/1610101/hsp_eff\\')\\n            AND \\n                $__timeFilter(ts) \\n            ORDER BY 1', rawQuery=True, srcFilePath='', sqlParams={}), SqlTarget(expr='', format='time_series', hide=False, legendFormat='', interval='', intervalFactor=2, metric='', refId='Effective_Zone_Air_Temperature_Setpoint', step=10, target='', instant=False, datasource='AQLCentral', rawSql='SELECT \\n                ts AS \"time\", \\n                CAST(value_string AS FLOAT) AS \"Effective_Zone_Air_Temperature_Setpoint\"\\n            FROM \\n                data \\n            WHERE \\n                topic_id in (select topic_id from topics where topic_name = \\'aql/1610101/effsp\\')\\n            AND \\n                $__timeFilter(ts) \\n            ORDER BY 1', rawQuery=True, srcFilePath='', sqlParams={}), SqlTarget(expr='', format='time_series', hide=False, legendFormat='', interval='', intervalFactor=2, metric='', refId='Temperature_Deadband_Setpoint', step=10, target='', instant=False, datasource='AQLCentral', rawSql='SELECT \\n                ts AS \"time\", \\n                CAST(value_string AS FLOAT) AS \"Temperature_Deadband_Setpoint\"\\n            FROM \\n                data \\n            WHERE \\n                topic_id in (select topic_id from topics where topic_name = \\'aql/1610101/effdb\\')\\n            AND \\n                $__timeFilter(ts) \\n            ORDER BY 1', rawQuery=True, srcFilePath='', sqlParams={}), SqlTarget(expr='', format='time_series', hide=False, legendFormat='', interval='', intervalFactor=2, metric='', refId='Cooling_Temperature_Setpoint', step=10, target='', instant=False, datasource='AQLCentral', rawSql='SELECT \\n                ts AS \"time\", \\n                CAST(value_string AS FLOAT) AS \"Cooling_Temperature_Setpoint\"\\n            FROM \\n                data \\n            WHERE \\n                topic_id in (select topic_id from topics where topic_name = \\'aql/1610101/csp_eff\\')\\n            AND \\n                $__timeFilter(ts) \\n            ORDER BY 1', rawQuery=True, srcFilePath='', sqlParams={}), SqlTarget(expr='', format='time_series', hide=False, legendFormat='', interval='', intervalFactor=2, metric='', refId='Occupancy_Command', step=10, target='', instant=False, datasource='AQLCentral', rawSql='SELECT \\n                ts AS \"time\", \\n                CAST(value_string AS FLOAT) AS \"Occupancy_Command\"\\n            FROM \\n                data \\n            WHERE \\n                topic_id in (select topic_id from topics where topic_name = \\'aql/1610101/bms_occ\\')\\n            AND \\n                $__timeFilter(ts) \\n            ORDER BY 1', rawQuery=True, srcFilePath='', sqlParams={}), SqlTarget(expr='', format='time_series', hide=False, legendFormat='', interval='', intervalFactor=2, metric='', refId='Heating_Mode_Status', step=10, target='', instant=False, datasource='AQLCentral', rawSql='SELECT \\n                ts AS \"time\", \\n                CAST(value_string AS FLOAT) AS \"Heating_Mode_Status\"\\n            FROM \\n                data \\n            WHERE \\n                topic_id in (select topic_id from topics where topic_name = \\'aql/1610101/acthstgs\\')\\n            AND \\n                $__timeFilter(ts) \\n            ORDER BY 1', rawQuery=True, srcFilePath='', sqlParams={}), SqlTarget(expr='', format='time_series', hide=False, legendFormat='', interval='', intervalFactor=2, metric='', refId='Cooling_Demand_Sensor', step=10, target='', instant=False, datasource='AQLCentral', rawSql='SELECT \\n                ts AS \"time\", \\n                CAST(value_string AS FLOAT) AS \"Cooling_Demand_Sensor\"\\n            FROM \\n                data \\n            WHERE \\n                topic_id in (select topic_id from topics where topic_name = \\'aql/1610101/actcstgs\\')\\n            AND \\n                $__timeFilter(ts) \\n            ORDER BY 1', rawQuery=True, srcFilePath='', sqlParams={}), SqlTarget(expr='', format='time_series', hide=False, legendFormat='', interval='', intervalFactor=2, metric='', refId='Zone_Air_Temperature_Sensor', step=10, target='', instant=False, datasource='AQLCentral', rawSql='SELECT \\n                ts AS \"time\", \\n                CAST(value_string AS FLOAT) AS \"Zone_Air_Temperature_Sensor\"\\n            FROM \\n                data \\n            WHERE \\n                topic_id in (select topic_id from topics where topic_name = \\'aql/1610101/ZSZoneTemp\\')\\n            AND \\n                $__timeFilter(ts) \\n            ORDER BY 1', rawQuery=True, srcFilePath='', sqlParams={})], title='hvac1', cacheTimeout=None, description=None, editable=True, error=False, height=None, gridPos=GridPos(h=8, w=16, x=0, y=0), hideTimeOverride=False, id=1, interval=None, links=[], maxDataPoints=100, minSpan=None, repeat=Repeat(direction=None, variable=None, maxPerRow=None), span=None, thresholds=[], thresholdType='absolute', timeFrom=None, timeShift=None, transparent=False, transformations=[], extraJson=None, axisPlacement='auto', axisLabel='', barAlignment=0, colorMode='palette-classic', drawStyle='line', fillOpacity=0, gradientMode='none', legendDisplayMode='list', legendPlacement='bottom', legendCalcs=[], lineInterpolation='linear', lineWidth=1, mappings=[], overrides=[{'matcher': {'id': 'byValue', 'options': {'op': 'lte', 'reducer': 'max', 'value': 10}}, 'properties': [{'id': 'custom.axisPlacement', 'value': 'right'}]}, {'matcher': {'id': 'byValue', 'options': {'op': 'gte', 'reducer': 'allIsZero', 'value': 0}}, 'properties': [{'id': 'custom.hideFrom', 'value': {'legend': True, 'tooltip': False, 'viz': True}}]}], pointSize=5, scaleDistributionType='linear', scaleDistributionLog=2, spanNulls=False, showPoints='auto', stacking={}, tooltipMode='single', tooltipSort='none', unit='', thresholdsStyleMode='off', valueMin=None, valueMax=None, valueDecimals=None, axisSoftMin=None, axisSoftMax=None), TimeSeries(dataSource='AQLCentral', targets=[SqlTarget(expr='', format='time_series', hide=False, legendFormat='', interval='', intervalFactor=2, metric='', refId='Supply_Air_Temperature_Setpoint', step=10, target='', instant=False, datasource='AQLCentral', rawSql='SELECT \\n                ts AS \"time\", \\n                CAST(value_string AS FLOAT) AS \"Supply_Air_Temperature_Setpoint\"\\n            FROM \\n                data \\n            WHERE \\n                topic_id in (select topic_id from topics where topic_name = \\'aql/1610102/sup_air_temp_setpt\\')\\n            AND \\n                $__timeFilter(ts) \\n            ORDER BY 1', rawQuery=True, srcFilePath='', sqlParams={}), SqlTarget(expr='', format='time_series', hide=False, legendFormat='', interval='', intervalFactor=2, metric='', refId='Supply_Air_Temperature_Sensor', step=10, target='', instant=False, datasource='AQLCentral', rawSql='SELECT \\n                ts AS \"time\", \\n                CAST(value_string AS FLOAT) AS \"Supply_Air_Temperature_Sensor\"\\n            FROM \\n                data \\n            WHERE \\n                topic_id in (select topic_id from topics where topic_name = \\'aql/1610102/sa_temp\\')\\n            AND \\n                $__timeFilter(ts) \\n            ORDER BY 1', rawQuery=True, srcFilePath='', sqlParams={}), SqlTarget(expr='', format='time_series', hide=False, legendFormat='', interval='', intervalFactor=2, metric='', refId='Return_Air_Temperature_Sensor', step=10, target='', instant=False, datasource='AQLCentral', rawSql='SELECT \\n                ts AS \"time\", \\n                CAST(value_string AS FLOAT) AS \"Return_Air_Temperature_Sensor\"\\n            FROM \\n                data \\n            WHERE \\n                topic_id in (select topic_id from topics where topic_name = \\'aql/1610102/ra_temp\\')\\n            AND \\n                $__timeFilter(ts) \\n            ORDER BY 1', rawQuery=True, srcFilePath='', sqlParams={}), SqlTarget(expr='', format='time_series', hide=False, legendFormat='', interval='', intervalFactor=2, metric='', refId='Outside_Air_Temperature_Sensor', step=10, target='', instant=False, datasource='AQLCentral', rawSql='SELECT \\n                ts AS \"time\", \\n                CAST(value_string AS FLOAT) AS \"Outside_Air_Temperature_Sensor\"\\n            FROM \\n                data \\n            WHERE \\n                topic_id in (select topic_id from topics where topic_name = \\'aql/1610102/max_free_cl_temp\\')\\n            AND \\n                $__timeFilter(ts) \\n            ORDER BY 1', rawQuery=True, srcFilePath='', sqlParams={}), SqlTarget(expr='', format='time_series', hide=False, legendFormat='', interval='', intervalFactor=2, metric='', refId='Damper_Position_Sensor', step=10, target='', instant=False, datasource='AQLCentral', rawSql='SELECT \\n                ts AS \"time\", \\n                CAST(value_string AS FLOAT) AS \"Damper_Position_Sensor\"\\n            FROM \\n                data \\n            WHERE \\n                topic_id in (select topic_id from topics where topic_name = \\'aql/1610102/oa_dmpr_pos\\')\\n            AND \\n                $__timeFilter(ts) \\n            ORDER BY 1', rawQuery=True, srcFilePath='', sqlParams={}), SqlTarget(expr='', format='time_series', hide=False, legendFormat='', interval='', intervalFactor=2, metric='', refId='Heating_Temperature_Setpoint', step=10, target='', instant=False, datasource='AQLCentral', rawSql='SELECT \\n                ts AS \"time\", \\n                CAST(value_string AS FLOAT) AS \"Heating_Temperature_Setpoint\"\\n            FROM \\n                data \\n            WHERE \\n                topic_id in (select topic_id from topics where topic_name = \\'aql/1610102/hsp_eff\\')\\n            AND \\n                $__timeFilter(ts) \\n            ORDER BY 1', rawQuery=True, srcFilePath='', sqlParams={}), SqlTarget(expr='', format='time_series', hide=False, legendFormat='', interval='', intervalFactor=2, metric='', refId='Cooling_Temperature_Setpoint', step=10, target='', instant=False, datasource='AQLCentral', rawSql='SELECT \\n                ts AS \"time\", \\n                CAST(value_string AS FLOAT) AS \"Cooling_Temperature_Setpoint\"\\n            FROM \\n                data \\n            WHERE \\n                topic_id in (select topic_id from topics where topic_name = \\'aql/1610102/csp_eff\\')\\n            AND \\n                $__timeFilter(ts) \\n            ORDER BY 1', rawQuery=True, srcFilePath='', sqlParams={}), SqlTarget(expr='', format='time_series', hide=False, legendFormat='', interval='', intervalFactor=2, metric='', refId='Occupancy_Command', step=10, target='', instant=False, datasource='AQLCentral', rawSql='SELECT \\n                ts AS \"time\", \\n                CAST(value_string AS FLOAT) AS \"Occupancy_Command\"\\n            FROM \\n                data \\n            WHERE \\n                topic_id in (select topic_id from topics where topic_name = \\'aql/1610102/bms_occ\\')\\n            AND \\n                $__timeFilter(ts) \\n            ORDER BY 1', rawQuery=True, srcFilePath='', sqlParams={}), SqlTarget(expr='', format='time_series', hide=False, legendFormat='', interval='', intervalFactor=2, metric='', refId='Stages_Status', step=10, target='', instant=False, datasource='AQLCentral', rawSql='SELECT \\n                ts AS \"time\", \\n                CAST(value_string AS FLOAT) AS \"Stages_Status\"\\n            FROM \\n                data \\n            WHERE \\n                topic_id in (select topic_id from topics where topic_name = \\'aql/1610102/acthstgs\\')\\n            AND \\n                $__timeFilter(ts) \\n            ORDER BY 1', rawQuery=True, srcFilePath='', sqlParams={}), SqlTarget(expr='', format='time_series', hide=False, legendFormat='', interval='', intervalFactor=2, metric='', refId='Cooling_Demand_Sensor', step=10, target='', instant=False, datasource='AQLCentral', rawSql='SELECT \\n                ts AS \"time\", \\n                CAST(value_string AS FLOAT) AS \"Cooling_Demand_Sensor\"\\n            FROM \\n                data \\n            WHERE \\n                topic_id in (select topic_id from topics where topic_name = \\'aql/1610102/actcstgs\\')\\n            AND \\n                $__timeFilter(ts) \\n            ORDER BY 1', rawQuery=True, srcFilePath='', sqlParams={}), SqlTarget(expr='', format='time_series', hide=False, legendFormat='', interval='', intervalFactor=2, metric='', refId='Zone_Air_Temperature_Sensor', step=10, target='', instant=False, datasource='AQLCentral', rawSql='SELECT \\n                ts AS \"time\", \\n                CAST(value_string AS FLOAT) AS \"Zone_Air_Temperature_Sensor\"\\n            FROM \\n                data \\n            WHERE \\n                topic_id in (select topic_id from topics where topic_name = \\'aql/1610102/ZSZoneTemp\\')\\n            AND \\n                $__timeFilter(ts) \\n            ORDER BY 1', rawQuery=True, srcFilePath='', sqlParams={})], title='hvac2', cacheTimeout=None, description=None, editable=True, error=False, height=None, gridPos=GridPos(h=8, w=16, x=0, y=10), hideTimeOverride=False, id=2, interval=None, links=[], maxDataPoints=100, minSpan=None, repeat=Repeat(direction=None, variable=None, maxPerRow=None), span=None, thresholds=[], thresholdType='absolute', timeFrom=None, timeShift=None, transparent=False, transformations=[], extraJson=None, axisPlacement='auto', axisLabel='', barAlignment=0, colorMode='palette-classic', drawStyle='line', fillOpacity=0, gradientMode='none', legendDisplayMode='list', legendPlacement='bottom', legendCalcs=[], lineInterpolation='linear', lineWidth=1, mappings=[], overrides=[{'matcher': {'id': 'byValue', 'options': {'op': 'lte', 'reducer': 'max', 'value': 10}}, 'properties': [{'id': 'custom.axisPlacement', 'value': 'right'}]}, {'matcher': {'id': 'byValue', 'options': {'op': 'gte', 'reducer': 'allIsZero', 'value': 0}}, 'properties': [{'id': 'custom.hideFrom', 'value': {'legend': True, 'tooltip': False, 'viz': True}}]}], pointSize=5, scaleDistributionType='linear', scaleDistributionLog=2, spanNulls=False, showPoints='auto', stacking={}, tooltipMode='single', tooltipSort='none', unit='', thresholdsStyleMode='off', valueMin=None, valueMax=None, valueDecimals=None, axisSoftMin=None, axisSoftMax=None), TimeSeries(dataSource='AQLCentral', targets=[SqlTarget(expr='', format='time_series', hide=False, legendFormat='', interval='', intervalFactor=2, metric='', refId='Zone_Air_Humidity_Sensor', step=10, target='', instant=False, datasource='AQLCentral', rawSql='SELECT \\n                ts AS \"time\", \\n                CAST(value_string AS FLOAT) AS \"Zone_Air_Humidity_Sensor\"\\n            FROM \\n                data \\n            WHERE \\n                topic_id in (select topic_id from topics where topic_name = \\'aql/1610101/space_rh\\')\\n            AND \\n                $__timeFilter(ts) \\n            ORDER BY 1', rawQuery=True, srcFilePath='', sqlParams={})], title='zone1', cacheTimeout=None, description=None, editable=True, error=False, height=None, gridPos=GridPos(h=8, w=16, x=0, y=20), hideTimeOverride=False, id=3, interval=None, links=[], maxDataPoints=100, minSpan=None, repeat=Repeat(direction=None, variable=None, maxPerRow=None), span=None, thresholds=[], thresholdType='absolute', timeFrom=None, timeShift=None, transparent=False, transformations=[], extraJson=None, axisPlacement='auto', axisLabel='', barAlignment=0, colorMode='palette-classic', drawStyle='line', fillOpacity=0, gradientMode='none', legendDisplayMode='list', legendPlacement='bottom', legendCalcs=[], lineInterpolation='linear', lineWidth=1, mappings=[], overrides=[{'matcher': {'id': 'byValue', 'options': {'op': 'lte', 'reducer': 'max', 'value': 10}}, 'properties': [{'id': 'custom.axisPlacement', 'value': 'right'}]}, {'matcher': {'id': 'byValue', 'options': {'op': 'gte', 'reducer': 'allIsZero', 'value': 0}}, 'properties': [{'id': 'custom.hideFrom', 'value': {'legend': True, 'tooltip': False, 'viz': True}}]}], pointSize=5, scaleDistributionType='linear', scaleDistributionLog=2, spanNulls=False, showPoints='auto', stacking={}, tooltipMode='single', tooltipSort='none', unit='', thresholdsStyleMode='off', valueMin=None, valueMax=None, valueDecimals=None, axisSoftMin=None, axisSoftMax=None)], refresh='10s', rows=[], schemaVersion=12, sharedCrosshair=False, style='dark', tags=['brick'], templating=Templating(list=[]), time=Time(start='now-1h', end='now'), timePicker=TimePicker(refreshIntervals=['5s', '10s', '30s', '1m', '5m', '15m', '30m', '1h', '2h', '1d'], timeOptions=['5m', '15m', '1h', '6h', '12h', '24h', '2d', '7d', '30d'], nowDelay=None, hidden=False), timezone='browser', version=0, uid=None)"
      ]
     },
     "execution_count": 20,
     "metadata": {},
     "output_type": "execute_result"
    }
   ],
   "source": [
    "bg.create_dashboard('AQL from brick')"
   ]
  },
  {
   "cell_type": "code",
   "execution_count": null,
   "metadata": {},
   "outputs": [
    {
     "name": "stdout",
     "output_type": "stream",
     "text": [
      "Upload status: 200 - b'{\"id\":10,\"slug\":\"aql-from-brick\",\"status\":\"success\",\"uid\":\"d61fc704-4ac4-415e-9ee1-a6a270f5866c\",\"url\":\"/d/d61fc704-4ac4-415e-9ee1-a6a270f5866c/aql-from-brick\",\"version\":4}'\n"
     ]
    }
   ],
   "source": [
    "bg.upload_dashboard(message = 'testing upload')"
   ]
  }
 ],
 "metadata": {
  "kernelspec": {
   "display_name": "creating-brick-model (3.11.11)",
   "language": "python",
   "name": "python3"
  },
  "language_info": {
   "codemirror_mode": {
    "name": "ipython",
    "version": 3
   },
   "file_extension": ".py",
   "mimetype": "text/x-python",
   "name": "python",
   "nbconvert_exporter": "python",
   "pygments_lexer": "ipython3",
   "version": "3.11.11"
  }
 },
 "nbformat": 4,
 "nbformat_minor": 2
}
