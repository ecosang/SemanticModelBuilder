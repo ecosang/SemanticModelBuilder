{
 "cells": [
  {
   "cell_type": "code",
   "execution_count": 1,
   "metadata": {},
   "outputs": [],
   "source": [
    "import sys\n",
    "sys.path.insert(0, '..')\n",
    "from BrickModelInterface import BrickModelBuilder, BuildingMetadataLoader, add_points, SurveyGenerator, SurveyReader"
   ]
  },
  {
   "cell_type": "code",
   "execution_count": null,
   "metadata": {},
   "outputs": [],
   "source": []
  },
  {
   "cell_type": "code",
   "execution_count": null,
   "metadata": {},
   "outputs": [],
   "source": [
    "survey_gen = SurveyGenerator(site_id = 'hpflex_demo',\n",
    "                             building_id = 'bldg1',\n",
    "                             hvac_type = 'hp-rtu')\n",
    "# zone_space_window list for configuration: 3 zones, with 2 spaces and 2 windows, 1 space and 2 windows, 1 space 3 windows, one hvac unit per zone\n",
    "#survey_gen.easy_config(zone_space_window_list=[(2,2),(1,2),(1,3)], output_path='./metadata-survey-hpflex')\n",
    "\n",
    "# bldg 1\n",
    "survey_gen.easy_config(zone_space_window_list=[(1,1),(1,2),(1,3)], output_path='./metadata-survey-hpflex')\n",
    "\n",
    "survey_gen = SurveyGenerator(site_id = 'hpflex_demo',\n",
    "                             building_id = 'bldg2',\n",
    "                             hvac_type = 'hp-rtu')\n",
    "# bldg 2\n",
    "survey_gen.easy_config(zone_space_window_list=[(1,1),(1,1),(1,1),(1,1)], output_path='./metadata-survey-hpflex')"
   ]
  },
  {
   "cell_type": "code",
   "execution_count": null,
   "metadata": {},
   "outputs": [],
   "source": []
  },
  {
   "cell_type": "code",
   "execution_count": 2,
   "metadata": {},
   "outputs": [
    {
     "name": "stderr",
     "output_type": "stream",
     "text": [
      "/opt/anaconda3/envs/hpflex_mpc/lib/python3.11/site-packages/pyshacl/extras/__init__.py:46: Warning: Extra \"js\" is not satisfied because requirement pyduktape2 is not installed.\n",
      "  warn(Warning(f\"Extra \\\"{extra_name}\\\" is not satisfied because requirement {req} is not installed.\"))\n"
     ]
    },
    {
     "name": "stdout",
     "output_type": "stream",
     "text": [
      "zone_1\n",
      "zone_2\n",
      "zone_3\n"
     ]
    },
    {
     "name": "stderr",
     "output_type": "stream",
     "text": [
      "/opt/anaconda3/envs/hpflex_mpc/lib/python3.11/site-packages/buildingmotif/database/table_connection.py:423: SAWarning: Identity map already had an identity for (<class 'buildingmotif.database.tables.DepsAssociation'>, (1,), None), replacing it with newly flushed object.   Are there load operations occurring inside of an event handler within the flush?\n",
      "  self.bm.session.flush()\n",
      "/opt/anaconda3/envs/hpflex_mpc/lib/python3.11/site-packages/buildingmotif/database/table_connection.py:423: SAWarning: Identity map already had an identity for (<class 'buildingmotif.database.tables.DepsAssociation'>, (2,), None), replacing it with newly flushed object.   Are there load operations occurring inside of an event handler within the flush?\n",
      "  self.bm.session.flush()\n",
      "/opt/anaconda3/envs/hpflex_mpc/lib/python3.11/site-packages/buildingmotif/database/table_connection.py:423: SAWarning: Identity map already had an identity for (<class 'buildingmotif.database.tables.DepsAssociation'>, (3,), None), replacing it with newly flushed object.   Are there load operations occurring inside of an event handler within the flush?\n",
      "  self.bm.session.flush()\n",
      "/opt/anaconda3/envs/hpflex_mpc/lib/python3.11/site-packages/buildingmotif/database/table_connection.py:423: SAWarning: Identity map already had an identity for (<class 'buildingmotif.database.tables.DepsAssociation'>, (4,), None), replacing it with newly flushed object.   Are there load operations occurring inside of an event handler within the flush?\n",
      "  self.bm.session.flush()\n",
      "/opt/anaconda3/envs/hpflex_mpc/lib/python3.11/site-packages/buildingmotif/database/table_connection.py:423: SAWarning: Identity map already had an identity for (<class 'buildingmotif.database.tables.DepsAssociation'>, (5,), None), replacing it with newly flushed object.   Are there load operations occurring inside of an event handler within the flush?\n",
      "  self.bm.session.flush()\n",
      "/opt/anaconda3/envs/hpflex_mpc/lib/python3.11/site-packages/buildingmotif/database/table_connection.py:423: SAWarning: Identity map already had an identity for (<class 'buildingmotif.database.tables.DepsAssociation'>, (6,), None), replacing it with newly flushed object.   Are there load operations occurring inside of an event handler within the flush?\n",
      "  self.bm.session.flush()\n",
      "/opt/anaconda3/envs/hpflex_mpc/lib/python3.11/site-packages/buildingmotif/database/table_connection.py:423: SAWarning: Identity map already had an identity for (<class 'buildingmotif.database.tables.DepsAssociation'>, (7,), None), replacing it with newly flushed object.   Are there load operations occurring inside of an event handler within the flush?\n",
      "  self.bm.session.flush()\n",
      "/opt/anaconda3/envs/hpflex_mpc/lib/python3.11/site-packages/buildingmotif/database/table_connection.py:423: SAWarning: Identity map already had an identity for (<class 'buildingmotif.database.tables.DepsAssociation'>, (8,), None), replacing it with newly flushed object.   Are there load operations occurring inside of an event handler within the flush?\n",
      "  self.bm.session.flush()\n",
      "/opt/anaconda3/envs/hpflex_mpc/lib/python3.11/site-packages/buildingmotif/database/table_connection.py:423: SAWarning: Identity map already had an identity for (<class 'buildingmotif.database.tables.DepsAssociation'>, (9,), None), replacing it with newly flushed object.   Are there load operations occurring inside of an event handler within the flush?\n",
      "  self.bm.session.flush()\n",
      "/opt/anaconda3/envs/hpflex_mpc/lib/python3.11/site-packages/buildingmotif/database/table_connection.py:423: SAWarning: Identity map already had an identity for (<class 'buildingmotif.database.tables.DepsAssociation'>, (10,), None), replacing it with newly flushed object.   Are there load operations occurring inside of an event handler within the flush?\n",
      "  self.bm.session.flush()\n",
      "/opt/anaconda3/envs/hpflex_mpc/lib/python3.11/site-packages/buildingmotif/database/table_connection.py:423: SAWarning: Identity map already had an identity for (<class 'buildingmotif.database.tables.DepsAssociation'>, (11,), None), replacing it with newly flushed object.   Are there load operations occurring inside of an event handler within the flush?\n",
      "  self.bm.session.flush()\n",
      "/opt/anaconda3/envs/hpflex_mpc/lib/python3.11/site-packages/buildingmotif/database/table_connection.py:423: SAWarning: Identity map already had an identity for (<class 'buildingmotif.database.tables.DepsAssociation'>, (12,), None), replacing it with newly flushed object.   Are there load operations occurring inside of an event handler within the flush?\n",
      "  self.bm.session.flush()\n",
      "/opt/anaconda3/envs/hpflex_mpc/lib/python3.11/site-packages/buildingmotif/database/table_connection.py:423: SAWarning: Identity map already had an identity for (<class 'buildingmotif.database.tables.DepsAssociation'>, (13,), None), replacing it with newly flushed object.   Are there load operations occurring inside of an event handler within the flush?\n",
      "  self.bm.session.flush()\n",
      "/opt/anaconda3/envs/hpflex_mpc/lib/python3.11/site-packages/buildingmotif/database/table_connection.py:423: SAWarning: Identity map already had an identity for (<class 'buildingmotif.database.tables.DepsAssociation'>, (14,), None), replacing it with newly flushed object.   Are there load operations occurring inside of an event handler within the flush?\n",
      "  self.bm.session.flush()\n",
      "/opt/anaconda3/envs/hpflex_mpc/lib/python3.11/site-packages/buildingmotif/database/table_connection.py:423: SAWarning: Identity map already had an identity for (<class 'buildingmotif.database.tables.DepsAssociation'>, (15,), None), replacing it with newly flushed object.   Are there load operations occurring inside of an event handler within the flush?\n",
      "  self.bm.session.flush()\n",
      "/opt/anaconda3/envs/hpflex_mpc/lib/python3.11/site-packages/buildingmotif/database/table_connection.py:423: SAWarning: Identity map already had an identity for (<class 'buildingmotif.database.tables.DepsAssociation'>, (16,), None), replacing it with newly flushed object.   Are there load operations occurring inside of an event handler within the flush?\n",
      "  self.bm.session.flush()\n",
      "/opt/anaconda3/envs/hpflex_mpc/lib/python3.11/site-packages/buildingmotif/database/table_connection.py:423: SAWarning: Identity map already had an identity for (<class 'buildingmotif.database.tables.DepsAssociation'>, (17,), None), replacing it with newly flushed object.   Are there load operations occurring inside of an event handler within the flush?\n",
      "  self.bm.session.flush()\n",
      "/opt/anaconda3/envs/hpflex_mpc/lib/python3.11/site-packages/buildingmotif/database/table_connection.py:423: SAWarning: Identity map already had an identity for (<class 'buildingmotif.database.tables.DepsAssociation'>, (18,), None), replacing it with newly flushed object.   Are there load operations occurring inside of an event handler within the flush?\n",
      "  self.bm.session.flush()\n",
      "/opt/anaconda3/envs/hpflex_mpc/lib/python3.11/site-packages/buildingmotif/database/table_connection.py:423: SAWarning: Identity map already had an identity for (<class 'buildingmotif.database.tables.DepsAssociation'>, (19,), None), replacing it with newly flushed object.   Are there load operations occurring inside of an event handler within the flush?\n",
      "  self.bm.session.flush()\n",
      "/opt/anaconda3/envs/hpflex_mpc/lib/python3.11/site-packages/buildingmotif/database/table_connection.py:423: SAWarning: Identity map already had an identity for (<class 'buildingmotif.database.tables.DepsAssociation'>, (20,), None), replacing it with newly flushed object.   Are there load operations occurring inside of an event handler within the flush?\n",
      "  self.bm.session.flush()\n",
      "/opt/anaconda3/envs/hpflex_mpc/lib/python3.11/site-packages/buildingmotif/database/table_connection.py:423: SAWarning: Identity map already had an identity for (<class 'buildingmotif.database.tables.DepsAssociation'>, (21,), None), replacing it with newly flushed object.   Are there load operations occurring inside of an event handler within the flush?\n",
      "  self.bm.session.flush()\n",
      "/opt/anaconda3/envs/hpflex_mpc/lib/python3.11/site-packages/buildingmotif/database/table_connection.py:423: SAWarning: Identity map already had an identity for (<class 'buildingmotif.database.tables.DepsAssociation'>, (22,), None), replacing it with newly flushed object.   Are there load operations occurring inside of an event handler within the flush?\n",
      "  self.bm.session.flush()\n",
      "/opt/anaconda3/envs/hpflex_mpc/lib/python3.11/site-packages/buildingmotif/database/table_connection.py:423: SAWarning: Identity map already had an identity for (<class 'buildingmotif.database.tables.DepsAssociation'>, (23,), None), replacing it with newly flushed object.   Are there load operations occurring inside of an event handler within the flush?\n",
      "  self.bm.session.flush()\n",
      "/opt/anaconda3/envs/hpflex_mpc/lib/python3.11/site-packages/buildingmotif/database/table_connection.py:423: SAWarning: Identity map already had an identity for (<class 'buildingmotif.database.tables.DepsAssociation'>, (24,), None), replacing it with newly flushed object.   Are there load operations occurring inside of an event handler within the flush?\n",
      "  self.bm.session.flush()\n",
      "/opt/anaconda3/envs/hpflex_mpc/lib/python3.11/site-packages/buildingmotif/database/table_connection.py:423: SAWarning: Identity map already had an identity for (<class 'buildingmotif.database.tables.DepsAssociation'>, (25,), None), replacing it with newly flushed object.   Are there load operations occurring inside of an event handler within the flush?\n",
      "  self.bm.session.flush()\n",
      "/opt/anaconda3/envs/hpflex_mpc/lib/python3.11/site-packages/buildingmotif/database/table_connection.py:423: SAWarning: Identity map already had an identity for (<class 'buildingmotif.database.tables.DepsAssociation'>, (26,), None), replacing it with newly flushed object.   Are there load operations occurring inside of an event handler within the flush?\n",
      "  self.bm.session.flush()\n"
     ]
    },
    {
     "name": "stdout",
     "output_type": "stream",
     "text": [
      "zone_1\n",
      "zone_2\n",
      "zone_3\n",
      "zone_4\n"
     ]
    }
   ],
   "source": [
    "generator = SurveyReader(\"./metadata-survey-hpflex/hpflex_demo/bldg1\")\n",
    "generator.create_model(\"bldg1.ttl\")\n",
    "\n",
    "generator = SurveyReader(\"./metadata-survey-hpflex/hpflex_demo/bldg2\")\n",
    "generator.create_model(\"bldg2.ttl\")\n"
   ]
  },
  {
   "cell_type": "code",
   "execution_count": 3,
   "metadata": {},
   "outputs": [],
   "source": [
    "site_metadata = BuildingMetadataLoader(\"/Users/srgmac/SemanticModelBuilder/tutorial/bldg1.ttl\",ontology='brick')\n",
    "site_info = site_metadata.get_site_info()\n",
    "thermostat_data = site_metadata.get_thermostat_data()"
   ]
  },
  {
   "cell_type": "code",
   "execution_count": 4,
   "metadata": {},
   "outputs": [
    {
     "data": {
      "text/plain": [
       "{'tz': 'US/Pacific',\n",
       " 'latitude': 37.87913,\n",
       " 'longitude': -122.2544,\n",
       " 'NOAAstation': None,\n",
       " 'project_id': rdflib.term.URIRef('urn:hpflex/hpflex_demo#hpflex_demo'),\n",
       " 'site_id': rdflib.term.URIRef('urn:hpflex/hpflex_demo#hpflex_demo'),\n",
       " 'building_id': 'bldg1'}"
      ]
     },
     "execution_count": 4,
     "metadata": {},
     "output_type": "execute_result"
    }
   ],
   "source": [
    "site_info"
   ]
  },
  {
   "cell_type": "code",
   "execution_count": 4,
   "metadata": {},
   "outputs": [
    {
     "data": {
      "text/plain": [
       "{'heat_availability': [True, True, True],\n",
       " 'cool_availability': [True, True, True],\n",
       " 'heat_tolerance': [-0.5, -0.5, -0.5],\n",
       " 'cool_tolerance': [0.5, 0.5, 0.5],\n",
       " 'setpoint_deadband': [0.5, 0.5, 0.5],\n",
       " 'active': [True, True, True],\n",
       " 'control_group': ['DEPRECATED', 'DEPRECATED', 'DEPRECATED'],\n",
       " 'control_type_list': ['stage', 'stage', 'stage'],\n",
       " 'floor_area_list': [120.77395200000001,\n",
       "  120.77395200000001,\n",
       "  120.77395200000001],\n",
       " 'floor_area_unit': ['M2', 'M2', 'M2'],\n",
       " 'window_area_list': [13.935456, 7.4322432, 4.645152],\n",
       " 'window_area_unit': ['M2', 'M2', 'M2'],\n",
       " 'azimuth_list': [180.0, 180.0, 180.0],\n",
       " 'azimuth_unit': ['DEGREE', 'DEGREE', 'DEGREE'],\n",
       " 'tilt_list': [90.0, 90.0, 90.0],\n",
       " 'tilt_unit': ['DEGREE', 'DEGREE', 'DEGREE'],\n",
       " 'zone_ids': ['zone_1', 'zone_2', 'zone_3'],\n",
       " 'hvacs': ['hvac_1', 'hvac_2', 'hvac_3'],\n",
       " 'setpoint_type': [],\n",
       " 'fuel_heat_list': ['electricity', 'electricity', 'electricity'],\n",
       " 'fuel_cool_list': ['electricity', 'electricity', 'electricity'],\n",
       " 'cooling_capacity': [-7.5, -7.5, -7.5],\n",
       " 'cooling_capacity_unit': ['KiloW', 'KiloW', 'KiloW'],\n",
       " 'heating_capacity': [10.0, 10.0, 10.0],\n",
       " 'heating_capacity_unit': ['KiloW', 'KiloW', 'KiloW'],\n",
       " 'cooling_cop': [2.5, 2.5, 2.5],\n",
       " 'heating_cop': [2.94, 2.94, 2.94],\n",
       " 'cooling_electricity': [],\n",
       " 'heating_electricity': [],\n",
       " 'resolution': ['float', 'float', 'float'],\n",
       " 'temperature_unit': ['IP', 'IP', 'IP']}"
      ]
     },
     "execution_count": 4,
     "metadata": {},
     "output_type": "execute_result"
    }
   ],
   "source": [
    "thermostat_data"
   ]
  },
  {
   "cell_type": "code",
   "execution_count": null,
   "metadata": {},
   "outputs": [],
   "source": []
  },
  {
   "cell_type": "code",
   "execution_count": null,
   "metadata": {},
   "outputs": [],
   "source": []
  },
  {
   "cell_type": "code",
   "execution_count": null,
   "metadata": {},
   "outputs": [],
   "source": [
    "\n"
   ]
  }
 ],
 "metadata": {
  "kernelspec": {
   "display_name": "hpflex_mpc",
   "language": "python",
   "name": "python3"
  },
  "language_info": {
   "codemirror_mode": {
    "name": "ipython",
    "version": 3
   },
   "file_extension": ".py",
   "mimetype": "text/x-python",
   "name": "python",
   "nbconvert_exporter": "python",
   "pygments_lexer": "ipython3",
   "version": "3.11.9"
  }
 },
 "nbformat": 4,
 "nbformat_minor": 2
}
